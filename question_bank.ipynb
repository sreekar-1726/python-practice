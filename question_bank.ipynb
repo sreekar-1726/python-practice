{
  "nbformat": 4,
  "nbformat_minor": 0,
  "metadata": {
    "colab": {
      "name": "question bank.ipynb",
      "provenance": [],
      "authorship_tag": "ABX9TyM1jqmXny1/DtOUTKOzdohg",
      "include_colab_link": true
    },
    "kernelspec": {
      "name": "python3",
      "display_name": "Python 3"
    },
    "language_info": {
      "name": "python"
    }
  },
  "cells": [
    {
      "cell_type": "markdown",
      "metadata": {
        "id": "view-in-github",
        "colab_type": "text"
      },
      "source": [
        "<a href=\"https://colab.research.google.com/github/sreekar-1726/python-practice/blob/main/question_bank.ipynb\" target=\"_parent\"><img src=\"https://colab.research.google.com/assets/colab-badge.svg\" alt=\"Open In Colab\"/></a>"
      ]
    },
    {
      "cell_type": "code",
      "execution_count": null,
      "metadata": {
        "id": "kR2mim8iXxNt"
      },
      "outputs": [],
      "source": [
        "#write a program to print prime numbers in a given range(25-50) using a function\n",
        "#write a program to read any month in integer and display days for that month using function\n",
        "#write a program to print even length words in a string using function (this is python class)\n",
        "#a)first write a python program to capitalize the first letter and last letter of a word\n",
        "#b)write a program to read a string from user display first character of each word with capital letter \n",
        "#write a python program to convert a list of multiple integers into single integers\n"
      ]
    },
    {
      "cell_type": "code",
      "source": [
        "a=int(input(\"enter a lower range number:\"))\n",
        "b=int(input(\"enter a higer range number:\"))\n",
        "def prime(a,b):\n",
        "\n",
        "  print(\"prime numbers in a given range are:\")\n",
        "  for n in range(a,b+1):\n",
        "    if n>1:\n",
        "      for i in range(2,n):\n",
        "       if (n%i)==0:\n",
        "          break\n",
        "      else:\n",
        "        print(n)\n",
        "prime(a,b)"
      ],
      "metadata": {
        "colab": {
          "base_uri": "https://localhost:8080/"
        },
        "id": "b6onhXbNX9Ux",
        "outputId": "9a1d8dde-b7b5-4e7b-863b-6efe92265548"
      },
      "execution_count": 1,
      "outputs": [
        {
          "output_type": "stream",
          "name": "stdout",
          "text": [
            "enter a lower range number:13\n",
            "enter a higer range number:19\n",
            "prime numbers in a given range are:\n",
            "13\n",
            "17\n",
            "19\n"
          ]
        }
      ]
    },
    {
      "cell_type": "code",
      "source": [
        "m=input(\"Enter the month in integer:\")\n",
        "def month(m):\n",
        "   if m==\"2\":\n",
        "    print(\"number of days:28\")\n",
        "   elif m in (\"4\",\"6\",\"9\",\"11\"):\n",
        "    print(\"number of days:30\")\n",
        "   elif m in (\"1\",\"3\",\"5\",\"7\",\"8\",\"10\",\"12\"):\n",
        "    print(\"number of days:31\")\n",
        "   else:\n",
        "    print(\"No month\")\n",
        "month(m)\n"
      ],
      "metadata": {
        "colab": {
          "base_uri": "https://localhost:8080/"
        },
        "id": "3zZWV4VZYIrO",
        "outputId": "8a78a078-7622-4bac-a076-eb00b5082f27"
      },
      "execution_count": 3,
      "outputs": [
        {
          "output_type": "stream",
          "name": "stdout",
          "text": [
            "Enter the month in integer:4\n",
            "number of days:30\n"
          ]
        }
      ]
    },
    {
      "cell_type": "code",
      "source": [
        "s=\"This is a python class\"\n",
        "def even(s):\n",
        "  s=s.split(\" \")\n",
        "  for i in (s):\n",
        "      if len(i)%2==0:\n",
        "         print(i)\n",
        "even(s)"
      ],
      "metadata": {
        "colab": {
          "base_uri": "https://localhost:8080/"
        },
        "id": "KPrbu2FLYSzU",
        "outputId": "f84e5afc-d549-46db-a6b7-fba026af7312"
      },
      "execution_count": 4,
      "outputs": [
        {
          "output_type": "stream",
          "name": "stdout",
          "text": [
            "This\n",
            "is\n",
            "python\n"
          ]
        }
      ]
    },
    {
      "cell_type": "code",
      "source": [
        "s=input(\"enter a string:\")\n",
        "def capitalize(s):\n",
        "    s=s[0].upper()+s[1:len(s)-1]+s[-1].upper()\n",
        "    print(s)\n",
        "capitalize(s)\n"
      ],
      "metadata": {
        "colab": {
          "base_uri": "https://localhost:8080/"
        },
        "id": "zX05E-gZYXIX",
        "outputId": "0b92932b-51af-4120-ed51-f5ac3cf66a60"
      },
      "execution_count": 5,
      "outputs": [
        {
          "output_type": "stream",
          "name": "stdout",
          "text": [
            "enter a string:my name is sreekar\n",
            "My name is sreekaR\n"
          ]
        }
      ]
    },
    {
      "cell_type": "code",
      "source": [
        "s=input(\"enter a string:\")\n",
        "def capital(s):\n",
        "  s=s.title()\n",
        "  print(s)\n",
        "capital(s)"
      ],
      "metadata": {
        "colab": {
          "base_uri": "https://localhost:8080/"
        },
        "id": "hFXCIaMZYnJu",
        "outputId": "83328407-f2ce-4657-8b42-c9b6207226d5"
      },
      "execution_count": 6,
      "outputs": [
        {
          "output_type": "stream",
          "name": "stdout",
          "text": [
            "enter a string:my name is sreekar\n",
            "My Name Is Sreekar\n"
          ]
        }
      ]
    },
    {
      "cell_type": "code",
      "source": [
        "n=int(input(\"how many numbers you want to enter into the list:\"))\n",
        "def single(n):\n",
        "  a=[]\n",
        "  for i in range(n):\n",
        "    b=int(input(\"enter the number:\"))\n",
        "    a.append(b)\n",
        "  for i in (a):\n",
        "    print(i,end=\"\")\n",
        "single(n)"
      ],
      "metadata": {
        "colab": {
          "base_uri": "https://localhost:8080/"
        },
        "id": "0vrsSXOZYvsU",
        "outputId": "f647c394-fb5b-44f4-e177-11e009c5d6da"
      },
      "execution_count": 7,
      "outputs": [
        {
          "output_type": "stream",
          "name": "stdout",
          "text": [
            "how many numbers you want to enter into the list:5\n",
            "enter the number:25\n",
            "enter the number:12\n",
            "enter the number:13\n",
            "enter the number:14\n",
            "enter the number:15\n",
            "2512131415"
          ]
        }
      ]
    }
  ]
}