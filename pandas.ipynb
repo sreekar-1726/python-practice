{
 "cells": [
  {
   "cell_type": "code",
   "execution_count": 25,
   "id": "640cfdcd",
   "metadata": {},
   "outputs": [
    {
     "name": "stdout",
     "output_type": "stream",
     "text": [
      "      names  age  gender mobile number\n",
      "0   sreekar   18    male        123456\n",
      "1   jayanth   12    male        789123\n",
      "2    vijaya   45  femail       1357801\n",
      "3  srinivas   50    male      13579864\n"
     ]
    }
   ],
   "source": [
    "import pandas as family\n",
    "details={\n",
    "    \"names\":[\"sreekar\",\"jayanth\",\"vijaya\",\"srinivas\"],\n",
    "    \"age\":[18,12,45,50],\n",
    "    \"gender\":[\"male\",\"male\",\"femail\",\"male\"],\n",
    "    \"mobile number\":[\"123456\",\"789123\",\"1357801\",\"13579864\"]\n",
    "}\n",
    "fdetails=pandas.DataFrame(details)\n",
    "print(fdetails)"
   ]
  },
  {
   "cell_type": "code",
   "execution_count": 24,
   "id": "cc1dbff2",
   "metadata": {},
   "outputs": [
    {
     "name": "stdout",
     "output_type": "stream",
     "text": [
      "    cars  passings\n",
      "0    BMW         4\n",
      "1  Volvo         5\n",
      "2   Ford         6\n"
     ]
    }
   ],
   "source": [
    "import pandas\n",
    "\n",
    "mydataset = {\n",
    "  'cars': [\"BMW\", \"Volvo\", \"Ford\"],\n",
    "  'passings': [4, 5, 6]\n",
    "}\n",
    "\n",
    "myvar = pandas.DataFrame(mydataset)\n",
    "\n",
    "print(myvar)"
   ]
  },
  {
   "cell_type": "code",
   "execution_count": 30,
   "id": "f40903d0",
   "metadata": {},
   "outputs": [
    {
     "name": "stdout",
     "output_type": "stream",
     "text": [
      "jayanth    12\n",
      "dtype: int64\n"
     ]
    }
   ],
   "source": [
    "import pandas as details\n",
    "\n",
    "fdetails={\"sreekar\":18,\"jayanth\":12,\"vijaya\":45,\"srinivas\":50}\n",
    "\n",
    "b=details.Series(fdetails,index=[\"jayanth\"])\n",
    "print(b)"
   ]
  },
  {
   "cell_type": "code",
   "execution_count": 31,
   "id": "cece2495",
   "metadata": {},
   "outputs": [
    {
     "name": "stdout",
     "output_type": "stream",
     "text": [
      "      names  age  gender mobile number\n",
      "0   sreekar   18    male        123456\n",
      "1   jayanth   12    male        789123\n",
      "2    vijaya   45  femail       1357801\n",
      "3  srinivas   50    male      13579864\n"
     ]
    }
   ],
   "source": [
    "import pandas as pd\n",
    "\n",
    "data = {\n",
    "  \"names\":[\"sreekar\",\"jayanth\",\"vijaya\",\"srinivas\"],\n",
    "    \"age\":[18,12,45,50],\n",
    "    \"gender\":[\"male\",\"male\",\"femail\",\"male\"],\n",
    "    \"mobile number\":[\"123456\",\"789123\",\"1357801\",\"13579864\"]\n",
    "}\n",
    "\n",
    "#load data into a DataFrame object:\n",
    "df = pd.DataFrame(data)\n",
    "\n",
    "print(df) "
   ]
  },
  {
   "cell_type": "code",
   "execution_count": 33,
   "id": "dd3848ee",
   "metadata": {},
   "outputs": [
    {
     "name": "stdout",
     "output_type": "stream",
     "text": [
      "sreekar     18\n",
      "jayanth     12\n",
      "vijaya      45\n",
      "srinivas    50\n",
      "dtype: int64\n"
     ]
    }
   ],
   "source": [
    "import pandas as pd\n",
    "\n",
    "fdetails={\"sreekar\":18,\"jayanth\":12,\"vijaya\":45,\"srinivas\":50}\n",
    "\n",
    "myvar = pd.Series(fdetails)\n",
    "\n",
    "print(myvar)"
   ]
  },
  {
   "cell_type": "code",
   "execution_count": 51,
   "id": "c6ebde51",
   "metadata": {},
   "outputs": [
    {
     "name": "stdout",
     "output_type": "stream",
     "text": [
      "             names  age  gender\n",
      "member-1   sreekar   18    male\n",
      "member-2   jayanth   12    male\n",
      "member-3    vijaya   45  femail\n",
      "member-4  srinivas   50    male\n"
     ]
    }
   ],
   "source": [
    "import pandas as pandas\n",
    "\n",
    "data = {\n",
    "  \"names\":[\"sreekar\",\"jayanth\",\"vijaya\",\"srinivas\"],\n",
    "    \"age\":[18,12,45,50],\n",
    "    \"gender\":[\"male\",\"male\",\"femail\",\"male\"],\n",
    "}\n",
    "\n",
    "df = pd.DataFrame(data, index = [\"member-1\", \"member-2\", \"member-3\",\"member-4\"])\n",
    "\n",
    "print(df) "
   ]
  },
  {
   "cell_type": "code",
   "execution_count": 53,
   "id": "f412f296",
   "metadata": {},
   "outputs": [
    {
     "name": "stdout",
     "output_type": "stream",
     "text": [
      "name      jayanth\n",
      "age            12\n",
      "gender       male\n",
      "Name: member-2, dtype: object\n"
     ]
    }
   ],
   "source": [
    "import pandas as pd\n",
    "\n",
    "data = {\n",
    " \"name\":[\"sreekar\",\"jayanth\",\"vijaya\",\"srinivas\"],\n",
    "    \"age\":[18,12,45,50],\n",
    "    \"gender\":[\"male\",\"male\",\"femail\",\"male\"]\n",
    "}\n",
    "\n",
    "df = pd.DataFrame(data, index = [\"member-1\", \"member-2\", \"member-3\",\"member-4\"])\n",
    "\n",
    "print(df.loc[\"member-2\"])\n"
   ]
  },
  {
   "cell_type": "code",
   "execution_count": null,
   "id": "524cb417",
   "metadata": {},
   "outputs": [],
   "source": []
  }
 ],
 "metadata": {
  "kernelspec": {
   "display_name": "Python 3 (ipykernel)",
   "language": "python",
   "name": "python3"
  },
  "language_info": {
   "codemirror_mode": {
    "name": "ipython",
    "version": 3
   },
   "file_extension": ".py",
   "mimetype": "text/x-python",
   "name": "python",
   "nbconvert_exporter": "python",
   "pygments_lexer": "ipython3",
   "version": "3.9.7"
  }
 },
 "nbformat": 4,
 "nbformat_minor": 5
}
