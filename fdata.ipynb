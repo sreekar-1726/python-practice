{
 "cells": [
  {
   "cell_type": "code",
   "execution_count": 21,
   "id": "e782de75",
   "metadata": {},
   "outputs": [
    {
     "name": "stdout",
     "output_type": "stream",
     "text": [
      "    s.no      name  age  gender        ph.no country\n",
      "0      1   sreekar   18    male   654*****55   india\n",
      "1      2   pradeep   18    male   455677***6   italy\n",
      "2      3   krishna   18    male   5678****67   japan\n",
      "3      4    rajash   18    male   45678****6  chaina\n",
      "4      5    venkat   18    male   3456****56  german\n",
      "5      6    tharun   18    male     534*2159  canada\n",
      "6      7  srinivas   18    male   654*****56  london\n",
      "7      8    vijaya   18  female  34565***667   india\n",
      "8      9    pranay   18    male   457*****56  chaina\n",
      "9     10     phani   18    male   456*****45  france\n",
      "10    11    pranav   18    male   345*****34   india\n",
      "11    12    charan   18    male    453****45   italy\n",
      "12    13     pandu   18    male   654*****57   japan\n",
      "13    14   prabhas   18    male   234*****89  chaina\n",
      "14    15      pspk   18    male   761*****34   india\n"
     ]
    }
   ],
   "source": [
    "import pandas as ds\n",
    "df=ds.read_csv(\"E:\\data.csv\")             \n",
    "df.drop_duplicates(inplace= True)\n",
    "print(df.to_string())"
   ]
  },
  {
   "cell_type": "code",
   "execution_count": 13,
   "id": "caefe047",
   "metadata": {},
   "outputs": [
    {
     "name": "stdout",
     "output_type": "stream",
     "text": [
      "    s.no      name  age  gender        ph.no country passport lisence\n",
      "0      1   sreekar   18    male   654*****55   india        x       r\n",
      "1      2   pradeep   18    male   455677***6   italy        y       t\n",
      "2      3   krishna   18    male   5678****67   japan        c       y\n",
      "3      4    rajash   18    male   45678****6  chaina        v       u\n",
      "4      5    venkat   18    male   3456****56  german        g       j\n",
      "5      6    tharun   18    male     534*2159  canada        y       k\n",
      "6      7  srinivas   18    male   654*****56  london        u       l\n",
      "7      8    vijaya   18  female  34565***667   india        t       m\n",
      "8      9    pranay   18    male   457*****56  chaina        g       n\n",
      "9     10     phani   18    male   456*****45  france        h       o\n",
      "10    11    pranav   18    male   345*****34   india        t       p\n",
      "11    12    charan   18    male    453****45   italy        j       e\n",
      "12    13     pandu   18    male   654*****57   japan        k       r\n",
      "13    14   prabhas   18    male   234*****89  chaina        l       e\n",
      "14    15      pspk   18    male   761*****34   india        m       f\n"
     ]
    }
   ],
   "source": [
    "import pandas as ds\n",
    "df=ds.read_csv(\"E:\\data-2.csv\")\n",
    "print(df.to_string())"
   ]
  },
  {
   "cell_type": "code",
   "execution_count": null,
   "id": "abd26279",
   "metadata": {},
   "outputs": [],
   "source": []
  }
 ],
 "metadata": {
  "kernelspec": {
   "display_name": "Python 3 (ipykernel)",
   "language": "python",
   "name": "python3"
  },
  "language_info": {
   "codemirror_mode": {
    "name": "ipython",
    "version": 3
   },
   "file_extension": ".py",
   "mimetype": "text/x-python",
   "name": "python",
   "nbconvert_exporter": "python",
   "pygments_lexer": "ipython3",
   "version": "3.9.7"
  }
 },
 "nbformat": 4,
 "nbformat_minor": 5
}
