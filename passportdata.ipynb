{
 "cells": [
  {
   "cell_type": "code",
   "execution_count": 8,
   "id": "db14e856",
   "metadata": {},
   "outputs": [
    {
     "name": "stdout",
     "output_type": "stream",
     "text": [
      "    s.no      name  age  gender        ph.no country passport lisence\n",
      "0      1   sreekar   18    male   654*****55   india        x       r\n",
      "1      2   pradeep   18    male   455677***6   italy        y       t\n",
      "2      3   krishna   18    male   5678****67   japan        c       y\n",
      "3      4    rajash   18    male   45678****6  chaina        v       u\n",
      "4      5    venkat   18    male   3456****56  german        g       j\n",
      "5      6    tharun   18    male     534*2159  canada        y       k\n",
      "6      7  srinivas   47    male   654*****56  london        u       l\n",
      "7      8    vijaya   45  female  34565***667   india        t       m\n",
      "8      9    pranay   18    male   457*****56  chaina        g       n\n",
      "9     10     phani   18    male   456*****45  france        h       o\n",
      "10    11    pranav   18    male   345*****34   india        t       p\n",
      "11    12    charan   18    male    453****45   italy        j       e\n",
      "12    13     pandu   18    male   654*****57   japan        k       r\n",
      "13    14   prabhas   18    male   234*****89  chaina        l       e\n",
      "14    15      pspk   18    male   761*****34   india        m       f\n"
     ]
    }
   ],
   "source": [
    "import pandas as ds\n",
    "df=ds.read_csv(\"E:\\data-2.csv\")\n",
    "print(df.to_string())"
   ]
  },
  {
   "cell_type": "code",
   "execution_count": 13,
   "id": "ef22b9fc",
   "metadata": {},
   "outputs": [
    {
     "name": "stdout",
     "output_type": "stream",
     "text": [
      "    s.no      name  age  gender        ph.no country passport lisence\n",
      "0      1   sreekar   18    male   7869056789   india        x       r\n",
      "1      2   pradeep   18    male  67585940487   italy        y       t\n",
      "2      3   krishna   18    male  86698988858   japan        c       y\n",
      "3      4    rajash   18    male  87578557555  chaina        v       u\n",
      "4      5    venkat   18    male  76868687686  german        g       j\n",
      "5      6    tharun   18    male  87686868989  canada        y       k\n",
      "6      7  srinivas   47    male  76868687686  london        u       l\n",
      "7      8    vijaya   45  female  76868687686   india        t       m\n",
      "8      9    pranay   18    male  87686868989  chaina        g       n\n",
      "9     10     phani   18    male  87578557555  france        h       o\n",
      "10    11    pranav   18    male   7869056789   india        t       p\n",
      "11    12    charan   18    male   7869056789   italy        j       e\n",
      "12    13     pandu   18    male  76868687686   japan        k       r\n",
      "13    14   prabhas   18    male  46474784747  chaina        l       e\n",
      "14    15      pspk   18    male  84747747437   india        m       f\n"
     ]
    },
    {
     "data": {
      "text/plain": [
       "age    18\n",
       "dtype: int64"
      ]
     },
     "execution_count": 13,
     "metadata": {},
     "output_type": "execute_result"
    }
   ],
   "source": [
    "import pandas as ds\n",
    "df=ds.read_csv(\"E:\\data-2.csv\")\n",
    "print(df.to_string())\n",
    "df.aggregate({\"age\":min})"
   ]
  },
  {
   "cell_type": "code",
   "execution_count": 15,
   "id": "95b015cb",
   "metadata": {},
   "outputs": [
    {
     "name": "stdout",
     "output_type": "stream",
     "text": [
      "    s.no      name  age  gender        ph.no country passport lisence\n",
      "0      1   sreekar   18    male   7869056789   india        x       r\n",
      "1      2   pradeep   18    male  67585940487   italy        y       t\n",
      "2      3   krishna   18    male  86698988858   japan        c       y\n",
      "3      4    rajash   18    male  87578557555  chaina        v       u\n",
      "4      5    venkat   18    male  76868687686  german        g       j\n",
      "5      6    tharun   18    male  87686868989  canada        y       k\n",
      "6      7  srinivas   47    male  76868687686  london        u       l\n",
      "7      8    vijaya   45  female  76868687686   india        t       m\n",
      "8      9    pranay   18    male  87686868989  chaina        g       n\n",
      "9     10     phani   18    male  87578557555  france        h       o\n",
      "10    11    pranav   18    male   7869056789   india        t       p\n",
      "11    12    charan   18    male   7869056789   italy        j       e\n",
      "12    13     pandu   18    male  76868687686   japan        k       r\n",
      "13    14   prabhas   18    male  46474784747  chaina        l       e\n",
      "14    15      pspk   18    male  84747747437   india        m       f\n"
     ]
    },
    {
     "data": {
      "text/html": [
       "<div>\n",
       "<style scoped>\n",
       "    .dataframe tbody tr th:only-of-type {\n",
       "        vertical-align: middle;\n",
       "    }\n",
       "\n",
       "    .dataframe tbody tr th {\n",
       "        vertical-align: top;\n",
       "    }\n",
       "\n",
       "    .dataframe thead th {\n",
       "        text-align: right;\n",
       "    }\n",
       "</style>\n",
       "<table border=\"1\" class=\"dataframe\">\n",
       "  <thead>\n",
       "    <tr style=\"text-align: right;\">\n",
       "      <th></th>\n",
       "      <th>age</th>\n",
       "    </tr>\n",
       "  </thead>\n",
       "  <tbody>\n",
       "    <tr>\n",
       "      <th>min</th>\n",
       "      <td>18</td>\n",
       "    </tr>\n",
       "    <tr>\n",
       "      <th>max</th>\n",
       "      <td>47</td>\n",
       "    </tr>\n",
       "  </tbody>\n",
       "</table>\n",
       "</div>"
      ],
      "text/plain": [
       "     age\n",
       "min   18\n",
       "max   47"
      ]
     },
     "execution_count": 15,
     "metadata": {},
     "output_type": "execute_result"
    }
   ],
   "source": [
    "import pandas as ds\n",
    "df=ds.read_csv(\"E:\\data-2.csv\")\n",
    "print(df.to_string())\n",
    "df.aggregate({\"age\":['min','max']})\n"
   ]
  },
  {
   "cell_type": "code",
   "execution_count": 40,
   "id": "4162b71b",
   "metadata": {},
   "outputs": [
    {
     "name": "stdout",
     "output_type": "stream",
     "text": [
      "    s.no      name  age  gender        ph.no country passport lisence\n",
      "0      1   sreekar   18    male   7869056789   india        x       r\n",
      "1      2   pradeep   18    male  67585940487   italy        y       t\n",
      "2      3   krishna   18    male  86698988858   japan        c       y\n",
      "3      4    rajash   18    male  87578557555  chaina        v       u\n",
      "4      5    venkat   18    male  76868687686  german        g       j\n",
      "5      6    tharun   18    male  87686868989  canada        y       k\n",
      "6      7  srinivas   47    male  76868687686  london        u       l\n",
      "7      8    vijaya   45  female  76868687686   india        t       m\n",
      "8      9    pranay   18    male  87686868989  chaina        g       n\n",
      "9     10     phani   18    male  87578557555  france        h       o\n",
      "10    11    pranav   18    male   7869056789   india        t       p\n",
      "11    12    charan   18    male   7869056789   italy        j       e\n",
      "12    13     pandu   18    male  76868687686   japan        k       r\n",
      "13    14   prabhas   18    male  46474784747  chaina        l       e\n",
      "14    15      pspk   18    male  84747747437   india        m       f\n"
     ]
    },
    {
     "data": {
      "text/html": [
       "<div>\n",
       "<style scoped>\n",
       "    .dataframe tbody tr th:only-of-type {\n",
       "        vertical-align: middle;\n",
       "    }\n",
       "\n",
       "    .dataframe tbody tr th {\n",
       "        vertical-align: top;\n",
       "    }\n",
       "\n",
       "    .dataframe thead th {\n",
       "        text-align: right;\n",
       "    }\n",
       "</style>\n",
       "<table border=\"1\" class=\"dataframe\">\n",
       "  <thead>\n",
       "    <tr style=\"text-align: right;\">\n",
       "      <th></th>\n",
       "      <th>age</th>\n",
       "      <th>ph.no</th>\n",
       "    </tr>\n",
       "  </thead>\n",
       "  <tbody>\n",
       "    <tr>\n",
       "      <th>sum</th>\n",
       "      <td>326.000000</td>\n",
       "      <td>9.671202e+11</td>\n",
       "    </tr>\n",
       "    <tr>\n",
       "      <th>min</th>\n",
       "      <td>18.000000</td>\n",
       "      <td>7.869057e+09</td>\n",
       "    </tr>\n",
       "    <tr>\n",
       "      <th>max</th>\n",
       "      <td>47.000000</td>\n",
       "      <td>8.768687e+10</td>\n",
       "    </tr>\n",
       "    <tr>\n",
       "      <th>average</th>\n",
       "      <td>21.733333</td>\n",
       "      <td>6.447468e+10</td>\n",
       "    </tr>\n",
       "  </tbody>\n",
       "</table>\n",
       "</div>"
      ],
      "text/plain": [
       "                age         ph.no\n",
       "sum      326.000000  9.671202e+11\n",
       "min       18.000000  7.869057e+09\n",
       "max       47.000000  8.768687e+10\n",
       "average   21.733333  6.447468e+10"
      ]
     },
     "execution_count": 40,
     "metadata": {},
     "output_type": "execute_result"
    }
   ],
   "source": [
    "import pandas as ds\n",
    "df=ds.read_csv(\"E:\\data-2.csv\")\n",
    "print(df.to_string())\n",
    "df.aggregate({\"age\":['sum','min','max','average'],\n",
    "            \"ph.no\":['sum','min','max','average']})         "
   ]
  },
  {
   "cell_type": "code",
   "execution_count": 38,
   "id": "1e66c409",
   "metadata": {},
   "outputs": [
    {
     "name": "stdout",
     "output_type": "stream",
     "text": [
      "{'charan': [11], 'krishna': [2], 'pandu': [12], 'phani': [9], 'prabhas': [13], 'pradeep': [1], 'pranav': [10], 'pranay': [8], 'pspk': [14], 'rajash': [3], 'sreekar': [0], 'srinivas': [6], 'tharun': [5], 'venkat': [4], 'vijaya': [7]}\n"
     ]
    }
   ],
   "source": [
    "import pandas as ds\n",
    "df=ds.read_csv(\"E:\\data-2.csv\")\n",
    "df.groupby('name')\n",
    "print(df.groupby('name').groups)\n"
   ]
  },
  {
   "cell_type": "code",
   "execution_count": null,
   "id": "b3a971f2",
   "metadata": {},
   "outputs": [],
   "source": []
  }
 ],
 "metadata": {
  "kernelspec": {
   "display_name": "Python 3 (ipykernel)",
   "language": "python",
   "name": "python3"
  },
  "language_info": {
   "codemirror_mode": {
    "name": "ipython",
    "version": 3
   },
   "file_extension": ".py",
   "mimetype": "text/x-python",
   "name": "python",
   "nbconvert_exporter": "python",
   "pygments_lexer": "ipython3",
   "version": "3.9.7"
  }
 },
 "nbformat": 4,
 "nbformat_minor": 5
}
