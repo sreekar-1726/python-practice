{
 "cells": [
  {
   "cell_type": "code",
   "execution_count": 35,
   "id": "8843c880",
   "metadata": {},
   "outputs": [
    {
     "name": "stdout",
     "output_type": "stream",
     "text": [
      "       name gender   age\n",
      "0   sreekar   male  18.0\n",
      "1   jayanth   male  12.0\n",
      "2  srinivas   male   NaN\n"
     ]
    }
   ],
   "source": [
    "import pandas as pd\n",
    "\n",
    "df = pd.read_csv('f information.csv')\n",
    "\n",
    "print(df.to_string())\n",
    "new_df = df.dropna()\n",
    "\n"
   ]
  },
  {
   "cell_type": "code",
   "execution_count": 36,
   "id": "4c644aff",
   "metadata": {},
   "outputs": [
    {
     "name": "stdout",
     "output_type": "stream",
     "text": [
      "       name gender   age\n",
      "0   sreekar   male  18.0\n",
      "1   jayanth   male  12.0\n",
      "2  srinivas   male    45\n"
     ]
    }
   ],
   "source": [
    "import pandas as pd\n",
    "\n",
    "df = pd.read_csv('f information.csv')\n",
    "\n",
    "df.fillna(\"45\", inplace = True)\n",
    "\n",
    "print(df.to_string())"
   ]
  },
  {
   "cell_type": "code",
   "execution_count": 37,
   "id": "33991c20",
   "metadata": {},
   "outputs": [
    {
     "name": "stdout",
     "output_type": "stream",
     "text": [
      "       name gender   age\n",
      "0   sreekar   male  18.0\n",
      "1   jayanth   male  12.0\n",
      "2  srinivas   male    45\n"
     ]
    }
   ],
   "source": [
    "import pandas as pd\n",
    "\n",
    "df = pd.read_csv('f information.csv')\n",
    "\n",
    "df[\"age\"].fillna(\"45\", inplace = True)\n",
    "\n",
    "print(df.to_string())"
   ]
  },
  {
   "cell_type": "code",
   "execution_count": 40,
   "id": "47f3d1b8",
   "metadata": {},
   "outputs": [
    {
     "name": "stdout",
     "output_type": "stream",
     "text": [
      "       name gender   age\n",
      "0   sreekar   male  18.0\n",
      "1   jayanth   male  12.0\n",
      "2  srinivas   male    45\n"
     ]
    }
   ],
   "source": [
    "import pandas as pd\n",
    "\n",
    "df = pd.read_csv('f information.csv')\n",
    "\n",
    "x = df[\"age\"].mean()\n",
    "\n",
    "df[\"age\"].fillna(\"45\", inplace = True)\n",
    "print(df.to_string())"
   ]
  },
  {
   "cell_type": "code",
   "execution_count": null,
   "id": "ab57cb44",
   "metadata": {},
   "outputs": [],
   "source": []
  }
 ],
 "metadata": {
  "kernelspec": {
   "display_name": "Python 3 (ipykernel)",
   "language": "python",
   "name": "python3"
  },
  "language_info": {
   "codemirror_mode": {
    "name": "ipython",
    "version": 3
   },
   "file_extension": ".py",
   "mimetype": "text/x-python",
   "name": "python",
   "nbconvert_exporter": "python",
   "pygments_lexer": "ipython3",
   "version": "3.9.7"
  }
 },
 "nbformat": 4,
 "nbformat_minor": 5
}
