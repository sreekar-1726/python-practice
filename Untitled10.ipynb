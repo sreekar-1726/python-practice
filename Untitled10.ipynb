{
  "nbformat": 4,
  "nbformat_minor": 0,
  "metadata": {
    "colab": {
      "name": "Untitled10.ipynb",
      "provenance": [],
      "authorship_tag": "ABX9TyNPfu6kSaUWW4XmqoDGH4XR",
      "include_colab_link": true
    },
    "kernelspec": {
      "name": "python3",
      "display_name": "Python 3"
    },
    "language_info": {
      "name": "python"
    }
  },
  "cells": [
    {
      "cell_type": "markdown",
      "metadata": {
        "id": "view-in-github",
        "colab_type": "text"
      },
      "source": [
        "<a href=\"https://colab.research.google.com/github/sreekar-1726/python-practice/blob/main/Untitled10.ipynb\" target=\"_parent\"><img src=\"https://colab.research.google.com/assets/colab-badge.svg\" alt=\"Open In Colab\"/></a>"
      ]
    },
    {
      "cell_type": "markdown",
      "source": [
        "write a python program to find power of number with recursion and without recursion"
      ],
      "metadata": {
        "id": "h0fGrp9gJvd7"
      }
    },
    {
      "cell_type": "code",
      "execution_count": null,
      "metadata": {
        "id": "U5WX_bvpGpsp"
      },
      "outputs": [],
      "source": [
        ""
      ]
    },
    {
      "cell_type": "markdown",
      "source": [
        "write a program to sort tuples to total digits list=[(3,4,6,723),(1,2),(134,234,34)]"
      ],
      "metadata": {
        "id": "qgWbBFMvJ-Y_"
      }
    },
    {
      "cell_type": "code",
      "source": [
        ""
      ],
      "metadata": {
        "id": "fE-6VD9RKkRp"
      },
      "execution_count": null,
      "outputs": []
    },
    {
      "cell_type": "markdown",
      "source": [
        "taqke five subjects marks for user and dispay grade of the student\n",
        "if avg is 90 to 100 o grade till c grade  and less than 40 is fail"
      ],
      "metadata": {
        "id": "SCEG8Pn9Kko9"
      }
    },
    {
      "cell_type": "code",
      "source": [
        ""
      ],
      "metadata": {
        "id": "mXipgIkiLZ1z"
      },
      "execution_count": null,
      "outputs": []
    },
    {
      "cell_type": "markdown",
      "source": [
        "write a python program that prints one if all the three given numbers are in assceding order otherwise print o"
      ],
      "metadata": {
        "id": "AS_dtvuLLZ-S"
      }
    },
    {
      "cell_type": "code",
      "source": [
        ""
      ],
      "metadata": {
        "id": "rK3R2UITL0EP"
      },
      "execution_count": null,
      "outputs": []
    },
    {
      "cell_type": "markdown",
      "source": [
        "check  given number perfect number or not"
      ],
      "metadata": {
        "id": "CSy1yi62L0M0"
      }
    },
    {
      "cell_type": "code",
      "source": [
        ""
      ],
      "metadata": {
        "id": "H40LJej5L_4V"
      },
      "execution_count": null,
      "outputs": []
    },
    {
      "cell_type": "markdown",
      "source": [
        "check given string is palindrome or not using string slicing"
      ],
      "metadata": {
        "id": "InqFYLtNMAX6"
      }
    },
    {
      "cell_type": "code",
      "source": [
        "a=input(\"enter a string\")\n",
        "b="
      ],
      "metadata": {
        "id": "tchz4kCFMUxE"
      },
      "execution_count": null,
      "outputs": []
    },
    {
      "cell_type": "markdown",
      "source": [
        "find the gcd of two numbers with and without recursioninput:5,3"
      ],
      "metadata": {
        "id": "ybeW6V6kMVGS"
      }
    },
    {
      "cell_type": "code",
      "source": [
        ""
      ],
      "metadata": {
        "id": "UOkrAJyEMrs2"
      },
      "execution_count": null,
      "outputs": []
    },
    {
      "cell_type": "markdown",
      "source": [
        "print sum of even digits in a given numer"
      ],
      "metadata": {
        "id": "jVEnLzbCMr-4"
      }
    },
    {
      "cell_type": "code",
      "source": [
        ""
      ],
      "metadata": {
        "id": "8ez43zhvM4je"
      },
      "execution_count": null,
      "outputs": []
    },
    {
      "cell_type": "markdown",
      "source": [
        "calculate the product of digits of a number given by user"
      ],
      "metadata": {
        "id": "4Acl3kdoM4s6"
      }
    },
    {
      "cell_type": "code",
      "source": [
        ""
      ],
      "metadata": {
        "id": "--jbK1k2NVq6"
      },
      "execution_count": null,
      "outputs": []
    },
    {
      "cell_type": "markdown",
      "source": [
        "calculate the sum of squares of digits of a number given by user"
      ],
      "metadata": {
        "id": "bPpB-rVlNV0z"
      }
    },
    {
      "cell_type": "code",
      "source": [
        ""
      ],
      "metadata": {
        "id": "BcRGXX7oNiu9"
      },
      "execution_count": null,
      "outputs": []
    },
    {
      "cell_type": "markdown",
      "source": [
        "given a string s.s=\"abcefcba\".how many times the the"
      ],
      "metadata": {
        "id": "89ycAkuLNi2c"
      }
    },
    {
      "cell_type": "code",
      "source": [
        ""
      ],
      "metadata": {
        "id": "LceVEsTGODN_"
      },
      "execution_count": null,
      "outputs": []
    },
    {
      "cell_type": "markdown",
      "source": [
        "print countfront back maches"
      ],
      "metadata": {
        "id": "eDzw9xkbODY7"
      }
    },
    {
      "cell_type": "code",
      "source": [
        ""
      ],
      "metadata": {
        "id": "W0AqWFK1OTsm"
      },
      "execution_count": null,
      "outputs": []
    },
    {
      "cell_type": "markdown",
      "source": [
        "given an integer n, return a list containing\n",
        "12233344444....and finally n return"
      ],
      "metadata": {
        "id": "0FkB7QuUOT3r"
      }
    },
    {
      "cell_type": "code",
      "source": [
        ""
      ],
      "metadata": {
        "id": "tYSEiwSIPEBv"
      },
      "execution_count": null,
      "outputs": []
    },
    {
      "cell_type": "markdown",
      "source": [
        "print no of owels and consonents in a given string\n",
        "input:gitam university\n",
        "\n"
      ],
      "metadata": {
        "id": "BdAvBVxgPEL1"
      }
    },
    {
      "cell_type": "code",
      "source": [
        ""
      ],
      "metadata": {
        "id": "WBLQps7qPL0j"
      },
      "execution_count": null,
      "outputs": []
    },
    {
      "cell_type": "markdown",
      "source": [
        "given two integers a and b .if a is less than bprint all numers from a to b if a is greater than or equal to b,print in desending order"
      ],
      "metadata": {
        "id": "qKyEQraDPL8a"
      }
    },
    {
      "cell_type": "code",
      "source": [
        ""
      ],
      "metadata": {
        "id": "P5BC0ur6P64s"
      },
      "execution_count": null,
      "outputs": []
    },
    {
      "cell_type": "markdown",
      "source": [
        "program to print biggest value among three numbers"
      ],
      "metadata": {
        "id": "DVJ931tlP7IV"
      }
    },
    {
      "cell_type": "code",
      "source": [
        ""
      ],
      "metadata": {
        "id": "X3BNWwaDQEWz"
      },
      "execution_count": null,
      "outputs": []
    },
    {
      "cell_type": "markdown",
      "source": [
        "write a program to count the number of strings where  the string length is 2 or more and find the first and last charectors are same for a given list of strings\n",
        "smple list:['abc','xyz,'aba,'1221']"
      ],
      "metadata": {
        "id": "EwvroteIQEeS"
      }
    },
    {
      "cell_type": "code",
      "source": [
        ""
      ],
      "metadata": {
        "id": "kuKkTmkcQrsv"
      },
      "execution_count": null,
      "outputs": []
    },
    {
      "cell_type": "markdown",
      "source": [
        "there a is walking trake of 3km.roundtrip of walking trake means 3+3=6km.take input from user as no of days,no. of  roundtrips completed in aday. calculate the total distence covered in metergiven a message as:\"need to walk more than 40000 meters.given amessage as \"good luck\""
      ],
      "metadata": {
        "id": "ECf9YYrVQr29"
      }
    },
    {
      "cell_type": "code",
      "source": [
        ""
      ],
      "metadata": {
        "id": "kyHejY8lSIXM"
      },
      "execution_count": null,
      "outputs": []
    },
    {
      "cell_type": "markdown",
      "source": [
        "given a list of students name in l and a charector display the students whose first letter is given as input charector.\n",
        "ex:print student details(frinds aname and charectors)"
      ],
      "metadata": {
        "id": "tjxBm76jSIf1"
      }
    },
    {
      "cell_type": "code",
      "source": [
        ""
      ],
      "metadata": {
        "id": "874uFpP0Sm9D"
      },
      "execution_count": null,
      "outputs": []
    },
    {
      "cell_type": "markdown",
      "source": [
        "given a LIST OF CITY NAMES WHOSE LENGTH IS GRATER THAN A GIVEN LENTH\n",
        "input:([delhi,mumbai,agra,patna],4)"
      ],
      "metadata": {
        "id": "ClC-peOsSnGe"
      }
    },
    {
      "cell_type": "code",
      "source": [
        ""
      ],
      "metadata": {
        "id": "4lj1o8vvTEH2"
      },
      "execution_count": null,
      "outputs": []
    }
  ]
}